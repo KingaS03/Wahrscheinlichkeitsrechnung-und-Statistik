{
 "cells": [
  {
   "cell_type": "markdown",
   "metadata": {},
   "source": [
    "<!--[![Open In Colab](https://colab.research.google.com/assets/colab-badge.svg)](https://colab.research.google.com/github/KingaS03/Wahrscheinlichkeitsrechnung-und-Statistik)-->\n",
    "\n",
    "<!--[![Binder](https://mybinder.org/badge_logo.svg)](https://mybinder.org/v2/gh/KingaS03/Wahrscheinlichkeitsrechnung-und-Statistik.git/HEAD)-->"
   ]
  },
  {
   "cell_type": "markdown",
   "metadata": {},
   "source": [
    "Bitte importieren Sie in Google Colab die Quiz-Fragen, indem Sie das kleine Dreieck auf der linken Seite des folgenden Feldes drücken:"
   ]
  },
  {
   "cell_type": "code",
   "execution_count": null,
   "metadata": {},
   "outputs": [],
   "source": [
    "!git clone \"https://github.com/KingaS03/Wahrscheinlichkeitsrechnung-und-Statistik.git\"\n",
    "cd \"Wahrscheinlichkeitsrechnung-und-Statistik\""
   ]
  },
  {
   "cell_type": "markdown",
   "metadata": {},
   "source": [
    "### Eigenschaften des Erwartungswerts und der Varianz"
   ]
  },
  {
   "cell_type": "markdown",
   "metadata": {},
   "source": [
    "Bitte führen Sie die folgenden zwei Felder mit Befehlen aus, indem Sie das kleine Dreieck auf der linken Seite des Feldes drücken. So werden Fragen erscheinen, die Sie beantworten sollen."
   ]
  },
  {
   "cell_type": "code",
   "execution_count": null,
   "metadata": {},
   "outputs": [],
   "source": [
    "%run 'questions/questions1.py'"
   ]
  },
  {
   "cell_type": "markdown",
   "metadata": {},
   "source": [
    "Wie kann man die folgenden Erwartungswerte anhand des Erwartungswerts von $X$ angeben? \n",
    "\n",
    "\\begin{align*}\n",
    "E(X + c) = ? \\\\[0.5em]\n",
    "E(cX) = ?\\\\[0.5em]\n",
    "E(aX + b) = ?\n",
    "\\end{align*}"
   ]
  },
  {
   "cell_type": "code",
   "execution_count": null,
   "metadata": {},
   "outputs": [],
   "source": [
    "%run 'questions/questions2.py'"
   ]
  },
  {
   "cell_type": "markdown",
   "metadata": {},
   "source": [
    "Wie kann man die folgenden Varianzen anhand der Varianz von $X$ angeben? \n",
    "\n",
    "\\begin{align*}\n",
    "{V}(X + c) = ?\\\\[0.5em]\n",
    "{V}(cX) = ?\\\\[0.5em]\n",
    "{V}(aX + b) = ?\n",
    "\\end{align*}"
   ]
  },
  {
   "cell_type": "code",
   "execution_count": null,
   "metadata": {},
   "outputs": [],
   "source": []
  }
 ],
 "metadata": {
  "kernelspec": {
   "display_name": "Python 3",
   "language": "python",
   "name": "python3"
  },
  "language_info": {
   "codemirror_mode": {
    "name": "ipython",
    "version": 3
   },
   "file_extension": ".py",
   "mimetype": "text/x-python",
   "name": "python",
   "nbconvert_exporter": "python",
   "pygments_lexer": "ipython3",
   "version": "3.6.10"
  }
 },
 "nbformat": 4,
 "nbformat_minor": 4
}
