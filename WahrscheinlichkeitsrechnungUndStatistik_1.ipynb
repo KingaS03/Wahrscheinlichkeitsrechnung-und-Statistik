{
 "cells": [
  {
   "cell_type": "markdown",
   "metadata": {},
   "source": [
    "### Eigenschaften des Erwartungswerts und der Varianz"
   ]
  },
  {
   "cell_type": "markdown",
   "metadata": {},
   "source": [
    "Bitte führen Sie die folgenden zwei Felder mit Befehlen aus, indem Sie das kleine Dreieck auf der linken Seite des Feldes drücken. So werden Fragen erscheinen, die Sie beantworten sollen."
   ]
  },
  {
   "cell_type": "code",
   "execution_count": 1,
   "metadata": {},
   "outputs": [
    {
     "data": {
      "text/markdown": [
       "**Frage 1:** Was ist der Erwartungswert der neuen Variable $Z = \\frac12X$? \n",
       "\n",
       "(a) Der Erwartungswert ist derselbe wie bei $X$, nämlich $E\\left(\\frac12X\\right) = E(X)$. \n",
       "\n",
       "(b) Der Erwartungswert ändert sich um einen Faktor von $\\frac12$ ab, nämlich $E\\left(\\frac12X\\right) = \\frac12 E(X)$. \n",
       "\n",
       "(c) Der Erwartungswert ändert sich um einen Faktor von $2$ ab, nämlich $E\\left(\\frac12X\\right) = 2 E(X)$. \n",
       "\n",
       "Tragen Sie den Buchstabe der richtigen Antwort ein: "
      ],
      "text/plain": [
       "<IPython.core.display.Markdown object>"
      ]
     },
     "metadata": {},
     "output_type": "display_data"
    }
   ],
   "source": [
    "from IPython.display import display, Latex, Markdown\n",
    "display(Markdown(rf\"\"\"**Frage 1:** Was ist der Erwartungswert der neuen Variable $Z = \\frac{1}{2}X$? \n",
    "\n",
    "(a) Der Erwartungswert ist derselbe wie bei $X$, nämlich $E\\left(\\frac{1}{2}X\\right) = E(X)$. \n",
    "\n",
    "(b) Der Erwartungswert ändert sich um einen Faktor von $\\frac{1}{2}$ ab, nämlich $E\\left(\\frac{1}{2}X\\right) = \\frac{1}{2} E(X)$. \n",
    "\n",
    "(c) Der Erwartungswert ändert sich um einen Faktor von $2$ ab, nämlich $E\\left(\\frac{1}{2}X\\right) = 2 E(X)$. \n",
    "\n",
    "Tragen Sie den Buchstabe der richtigen Antwort ein: \"\"\"))"
   ]
  },
  {
   "cell_type": "code",
   "execution_count": 2,
   "metadata": {},
   "outputs": [
    {
     "data": {
      "text/markdown": [
       "**Frage 1:** Was ist der Erwartungswert der statistischen Variable $X$ mit den Werten $x_1 = 0, x_2 = 2, x_3 = 4, x_4 = 7$ und enstprechenden Wahrscheinlichkeiten $p_1 = \\frac18, p_2 = \\frac28, p_3 = \\frac38, p_4 = \\frac28$? Geben Sie die Antwort auf zwei Nachkommastellen abgerundet an: "
      ],
      "text/plain": [
       "<IPython.core.display.Markdown object>"
      ]
     },
     "metadata": {},
     "output_type": "display_data"
    },
    {
     "name": "stdout",
     "output_type": "stream",
     "text": [
      "1.2\n"
     ]
    },
    {
     "data": {
      "text/markdown": [
       "Falsche Antwort. Die richtige Antwort ist: $3.75$."
      ],
      "text/plain": [
       "<IPython.core.display.Markdown object>"
      ]
     },
     "metadata": {},
     "output_type": "display_data"
    },
    {
     "data": {
      "text/markdown": [
       "**Frage 2:** Was ist der Erwartungswert der neuen Variable $Y = X+3$? \n",
       "\n",
       "(a) Der Erwartungswert ist derselbe wie bei $X$, nämlich $E(X+3) = E(X)$. \n",
       "\n",
       "(b) Der Erwartungswert wird um 3 Einheiten kleiner, nämlich $E(X+3) = E(X) - 3$. \n",
       "\n",
       "(c) Der Erwartungswert wird um 3 Einheiten grösser, nämlich $E(X+3) = E(X) + 3$. \n",
       "\n",
       "Tragen Sie den Buchstabe der richtigen Antwort ein: "
      ],
      "text/plain": [
       "<IPython.core.display.Markdown object>"
      ]
     },
     "metadata": {},
     "output_type": "display_data"
    },
    {
     "name": "stdout",
     "output_type": "stream",
     "text": [
      "23\n"
     ]
    },
    {
     "data": {
      "text/markdown": [
       "Falsche Antwort. Die richtige Antwort ist: $c$."
      ],
      "text/plain": [
       "<IPython.core.display.Markdown object>"
      ]
     },
     "metadata": {},
     "output_type": "display_data"
    },
    {
     "data": {
      "text/markdown": [
       "**Frage 3:** Was ist der Erwartungswert der neuen Variable $Z = \\frac12X$? \n",
       "\n",
       "(a) Der Erwartungswert ist derselbe wie bei $X$, nämlich $E\\left(\\frac12X\\right) = E(X)$. \n",
       "\n",
       "(b) Der Erwartungswert ändert sich um einen Faktor von $\\frac12$ ab, nämlich $E\\left(\\frac12X\\right) = \\frac12 E(X)$. \n",
       "\n",
       "(c) Der Erwartungswert ändert sich um einen Faktor von $2$ ab, nämlich $E\\left(\\frac12X\\right) = 2 E(X)$. \n",
       "\n",
       "Tragen Sie den Buchstabe der richtigen Antwort ein: "
      ],
      "text/plain": [
       "<IPython.core.display.Markdown object>"
      ]
     },
     "metadata": {},
     "output_type": "display_data"
    },
    {
     "name": "stdout",
     "output_type": "stream",
     "text": [
      "a\n"
     ]
    },
    {
     "data": {
      "text/markdown": [
       "Falsche Antwort. Die richtige Antwort ist: $b$."
      ],
      "text/plain": [
       "<IPython.core.display.Markdown object>"
      ]
     },
     "metadata": {},
     "output_type": "display_data"
    }
   ],
   "source": [
    "%run 'questions/questions1.py'"
   ]
  },
  {
   "cell_type": "markdown",
   "metadata": {},
   "source": [
    "Wie kann man die folgenden Erwartungswerte anhand des Erwartungswerts von $X$ angeben? \n",
    "\n",
    "\\begin{align*}\n",
    "E(X + c) = ? \\\\[0.5em]\n",
    "E(cX) = ?\\\\[0.5em]\n",
    "E(aX + b) = ?\n",
    "\\end{align*}"
   ]
  },
  {
   "cell_type": "code",
   "execution_count": 7,
   "metadata": {},
   "outputs": [
    {
     "data": {
      "text/markdown": [
       "**Frage 4:** Was ist die Varianz der statistischen Variable $X$ mit den Werten $x_1 = 0, x_2 = 2, x_3 = 4, x_4 = 7$ und enstprechenden Wahrscheinlichkeiten $p_1 = \\frac18, p_2 = \\frac14, p_3 = \\frac38, p_4 = \\frac14$? Geben Sie die Antwort auf zwei Nachkommastellen abgerundet an: "
      ],
      "text/plain": [
       "<IPython.core.display.Markdown object>"
      ]
     },
     "metadata": {},
     "output_type": "display_data"
    },
    {
     "name": "stdout",
     "output_type": "stream",
     "text": [
      "1.2\n"
     ]
    },
    {
     "data": {
      "text/markdown": [
       "Falsche Antwort. Die richtige Antwort ist: $5.19$."
      ],
      "text/plain": [
       "<IPython.core.display.Markdown object>"
      ]
     },
     "metadata": {},
     "output_type": "display_data"
    },
    {
     "data": {
      "text/markdown": [
       "**Frage 5:** Was ist die Varianz der Variable $X+3$? \n",
       "\n",
       "(a) Die Varianz ist dieselbe wie bei $X$, nämlich $V(X+3) = V(X)$. \n",
       "\n",
       "(b) Die Varianz wird um 3 Einheiten kleiner, nämlich $V(X+3) = V(X) - 3$. \n",
       "\n",
       "(c) Die Varianz wird um 3 Einheiten grösser, nämlich $V(X+3) = V(X) + 3$. \n",
       "\n",
       "Tragen Sie den Buchstabe der richtigen Antwort ein: "
      ],
      "text/plain": [
       "<IPython.core.display.Markdown object>"
      ]
     },
     "metadata": {},
     "output_type": "display_data"
    },
    {
     "name": "stdout",
     "output_type": "stream",
     "text": [
      "a\n"
     ]
    },
    {
     "data": {
      "text/markdown": [
       "Richtige Antwort. Gut gemacht!"
      ],
      "text/plain": [
       "<IPython.core.display.Markdown object>"
      ]
     },
     "metadata": {},
     "output_type": "display_data"
    },
    {
     "data": {
      "text/markdown": [
       "**Frage 6:** Was ist die Varianz der neuen Variable $\\frac12X$? \n",
       "\n",
       "(a) Die Varianz ändert sich um einen Faktor von $\\frac12$ ab, nämlich $V\\left(\\frac12X\\right) = \\frac12 V(X)$. \n",
       "\n",
       "(b) Die Varianz ändert sich um einen Faktor von $\\frac14$ ab, nämlich $V\\left(\\frac12X\\right) = \\frac14 E(X)$. \n",
       "\n",
       "(c) Die Varianz ändert sich um einen Faktor von $4$ ab, nämlich $V\\left(\\frac12X\\right) = 4 E(X)$. \n",
       "\n",
       "(d) Die Varianz ändert sich um einen Faktor von $2$ ab, nämlich $V\\left(\\frac12X\\right) = 2 E(X)$. \n",
       "\n",
       "(e) Die Varianz ist dieselbe wie bei $X$, nämlich $V\\left(\\frac12X\\right) = V(X)$. \n",
       "\n",
       "Tragen Sie den Buchstabe der richtigen Antwort ein: "
      ],
      "text/plain": [
       "<IPython.core.display.Markdown object>"
      ]
     },
     "metadata": {},
     "output_type": "display_data"
    },
    {
     "name": "stdout",
     "output_type": "stream",
     "text": [
      "b\n"
     ]
    },
    {
     "data": {
      "text/markdown": [
       "Richtige Antwort. Gut gemacht!"
      ],
      "text/plain": [
       "<IPython.core.display.Markdown object>"
      ]
     },
     "metadata": {},
     "output_type": "display_data"
    }
   ],
   "source": [
    "%run 'questions/questions2.py'"
   ]
  },
  {
   "cell_type": "markdown",
   "metadata": {},
   "source": [
    "Wie kann man die folgenden Varianzen anhand der Varianz von $X$ angeben? \n",
    "\n",
    "\\begin{align*}\n",
    "{\\rm Var}(X + c) = ?\\\\[0.5em]\n",
    "{\\rm Var}(cX) = ?\\\\[0.5em]\n",
    "{\\rm Var}(aX + b) = ?\n",
    "\\end{align*}"
   ]
  }
 ],
 "metadata": {
  "kernelspec": {
   "display_name": "Python 3",
   "language": "python",
   "name": "python3"
  },
  "language_info": {
   "codemirror_mode": {
    "name": "ipython",
    "version": 3
   },
   "file_extension": ".py",
   "mimetype": "text/x-python",
   "name": "python",
   "nbconvert_exporter": "python",
   "pygments_lexer": "ipython3",
   "version": "3.6.10"
  }
 },
 "nbformat": 4,
 "nbformat_minor": 4
}
